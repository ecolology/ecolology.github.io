{
  "cells": [
    {
      "cell_type": "raw",
      "metadata": {},
      "source": [
        "---\n",
        "title: webR in Quarto HTML Documents\n",
        "format: html\n",
        "filters:\n",
        "  - webr\n",
        "  - lightbox\n",
        "lightbox: auto\n",
        "\n",
        "---"
      ],
      "id": "60293ce2"
    },
    {
      "cell_type": "markdown",
      "metadata": {},
      "source": [
        "```{webr}\n",
        "require(glmmTMB)\n",
        "```\n",
        "\n",
        "\n",
        "\n",
        "```{webr-r}\n",
        "#| autorun: true\n",
        "fit = lm(mpg ~ am, data = mtcars)\n",
        "\n",
        "summary(fit)\n",
        "```\n",
        "\n",
        "![A Lovely Image](img/coral.jpg){group=\"my-gallery\"}\n",
        "\n",
        "![A Lovely Image 2](img/fish.jpg){group=\"my-gallery\"}\n",
        "\n",
        "![Another Lovely Image 2](img/decoys.jpg){group=\"my-gallery\"}\n"
      ],
      "id": "a6506047"
    }
  ],
  "metadata": {
    "kernelspec": {
      "display_name": "Python 3",
      "language": "python",
      "name": "python3"
    }
  },
  "nbformat": 4,
  "nbformat_minor": 5
}